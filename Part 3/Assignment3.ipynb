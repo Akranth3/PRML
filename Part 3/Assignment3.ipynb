{
 "cells": [
  {
   "cell_type": "code",
   "execution_count": 66,
   "metadata": {},
   "outputs": [],
   "source": [
    "import numpy as np\n",
    "from matplotlib import pyplot as plt\n",
    "from pandas import read_csv\n",
    "import string\n",
    "from PIL import Image\n",
    "import matplotlib.pyplot as plt\n",
    "from sklearn import svm\n",
    "from sklearn.model_selection import train_test_split\n",
    "import os"
   ]
  },
  {
   "cell_type": "markdown",
   "metadata": {},
   "source": [
    "The code to run the algorithm to get accuracy on test folder emails is at the end, please run it to get the accuracy."
   ]
  },
  {
   "cell_type": "markdown",
   "metadata": {},
   "source": [
    "=================Preprocessing the data========================="
   ]
  },
  {
   "cell_type": "code",
   "execution_count": 67,
   "metadata": {},
   "outputs": [],
   "source": [
    "df=read_csv('mail_data.csv')"
   ]
  },
  {
   "cell_type": "code",
   "execution_count": 76,
   "metadata": {},
   "outputs": [
    {
     "data": {
      "text/plain": [
       "(4825, 747)"
      ]
     },
     "execution_count": 76,
     "metadata": {},
     "output_type": "execute_result"
    }
   ],
   "source": [
    "np.sum(label=='ham'),np.sum(label=='spam')"
   ]
  },
  {
   "cell_type": "code",
   "execution_count": 69,
   "metadata": {
    "scrolled": true
   },
   "outputs": [
    {
     "data": {
      "text/html": [
       "<div>\n",
       "<style scoped>\n",
       "    .dataframe tbody tr th:only-of-type {\n",
       "        vertical-align: middle;\n",
       "    }\n",
       "\n",
       "    .dataframe tbody tr th {\n",
       "        vertical-align: top;\n",
       "    }\n",
       "\n",
       "    .dataframe thead th {\n",
       "        text-align: right;\n",
       "    }\n",
       "</style>\n",
       "<table border=\"1\" class=\"dataframe\">\n",
       "  <thead>\n",
       "    <tr style=\"text-align: right;\">\n",
       "      <th></th>\n",
       "      <th>Category</th>\n",
       "      <th>Message</th>\n",
       "    </tr>\n",
       "  </thead>\n",
       "  <tbody>\n",
       "    <tr>\n",
       "      <th>0</th>\n",
       "      <td>ham</td>\n",
       "      <td>Go until jurong point, crazy.. Available only ...</td>\n",
       "    </tr>\n",
       "    <tr>\n",
       "      <th>1</th>\n",
       "      <td>ham</td>\n",
       "      <td>Ok lar... Joking wif u oni...</td>\n",
       "    </tr>\n",
       "    <tr>\n",
       "      <th>2</th>\n",
       "      <td>spam</td>\n",
       "      <td>Free entry in 2 a wkly comp to win FA Cup fina...</td>\n",
       "    </tr>\n",
       "    <tr>\n",
       "      <th>3</th>\n",
       "      <td>ham</td>\n",
       "      <td>U dun say so early hor... U c already then say...</td>\n",
       "    </tr>\n",
       "    <tr>\n",
       "      <th>4</th>\n",
       "      <td>ham</td>\n",
       "      <td>Nah I don't think he goes to usf, he lives aro...</td>\n",
       "    </tr>\n",
       "    <tr>\n",
       "      <th>...</th>\n",
       "      <td>...</td>\n",
       "      <td>...</td>\n",
       "    </tr>\n",
       "    <tr>\n",
       "      <th>5567</th>\n",
       "      <td>spam</td>\n",
       "      <td>This is the 2nd time we have tried 2 contact u...</td>\n",
       "    </tr>\n",
       "    <tr>\n",
       "      <th>5568</th>\n",
       "      <td>ham</td>\n",
       "      <td>Will ü b going to esplanade fr home?</td>\n",
       "    </tr>\n",
       "    <tr>\n",
       "      <th>5569</th>\n",
       "      <td>ham</td>\n",
       "      <td>Pity, * was in mood for that. So...any other s...</td>\n",
       "    </tr>\n",
       "    <tr>\n",
       "      <th>5570</th>\n",
       "      <td>ham</td>\n",
       "      <td>The guy did some bitching but I acted like i'd...</td>\n",
       "    </tr>\n",
       "    <tr>\n",
       "      <th>5571</th>\n",
       "      <td>ham</td>\n",
       "      <td>Rofl. Its true to its name</td>\n",
       "    </tr>\n",
       "  </tbody>\n",
       "</table>\n",
       "<p>5572 rows × 2 columns</p>\n",
       "</div>"
      ],
      "text/plain": [
       "     Category                                            Message\n",
       "0         ham  Go until jurong point, crazy.. Available only ...\n",
       "1         ham                      Ok lar... Joking wif u oni...\n",
       "2        spam  Free entry in 2 a wkly comp to win FA Cup fina...\n",
       "3         ham  U dun say so early hor... U c already then say...\n",
       "4         ham  Nah I don't think he goes to usf, he lives aro...\n",
       "...       ...                                                ...\n",
       "5567     spam  This is the 2nd time we have tried 2 contact u...\n",
       "5568      ham               Will ü b going to esplanade fr home?\n",
       "5569      ham  Pity, * was in mood for that. So...any other s...\n",
       "5570      ham  The guy did some bitching but I acted like i'd...\n",
       "5571      ham                         Rofl. Its true to its name\n",
       "\n",
       "[5572 rows x 2 columns]"
      ]
     },
     "execution_count": 69,
     "metadata": {},
     "output_type": "execute_result"
    }
   ],
   "source": [
    "df"
   ]
  },
  {
   "cell_type": "code",
   "execution_count": 70,
   "metadata": {},
   "outputs": [],
   "source": [
    "text=np.array(df['Message'])\n",
    "label=np.array(df['Category'])"
   ]
  },
  {
   "cell_type": "code",
   "execution_count": 71,
   "metadata": {},
   "outputs": [],
   "source": [
    "def ispunc(ch):\n",
    "    '''\n",
    "    Removes Punctuations from text'''\n",
    "    punc='''!()-[]{};:'\"\\,<>./?@#$%^&*_~'''\n",
    "    for i in punc:\n",
    "        if(i==ch):\n",
    "            return True\n",
    "    return False\n",
    "def find_in_features(features,word):\n",
    "    n=features.size\n",
    "    for i in range(n):\n",
    "        if(features[i]==word):\n",
    "            return i\n",
    "    return -69  \n",
    "def find_in_dict(Dict,word):\n",
    "    for item in Dict:\n",
    "        if(item==word):\n",
    "            Dict[item]=Dict[item]+1\n",
    "            return True\n",
    "    Dict[word]=1\n",
    "    return False"
   ]
  },
  {
   "cell_type": "code",
   "execution_count": 72,
   "metadata": {},
   "outputs": [],
   "source": [
    "#Cleans the data and makes feature vectors of size 754.\n",
    "data_cleaned=text.copy()\n",
    "count=0\n",
    "for emails in data_cleaned:\n",
    "    data_cleaned[count]=''.join((z for z in emails if not (z.isdigit() or ispunc(z))))\n",
    "    count=count+1\n",
    "op=[]\n",
    "for i in data_cleaned:\n",
    "    op.append(list(i.split()))\n",
    "vectorized_text=np.array(op,dtype=list)\n",
    "Dict={}\n",
    "for listt in vectorized_text:\n",
    "    for i in listt:\n",
    "        find_in_dict(Dict,i)\n",
    "sorted_dt = {key: value for key, value in sorted(Dict.items(), key=lambda item: item[1])}\n",
    "features=[]\n",
    "count=0\n",
    "for i,j in Dict.items():\n",
    "    if(j>15):\n",
    "        features.append(i)\n",
    "        count=count+1\n",
    "features=np.array(features)\n",
    "n=text.size\n",
    "final_mat=np.zeros((n,features.size))\n",
    "for i in range(n):\n",
    "    for j in vectorized_text[i]:\n",
    "        temp=find_in_features(features,j)\n",
    "        if(temp!=-69):\n",
    "            final_mat[i,temp]=1"
   ]
  },
  {
   "cell_type": "code",
   "execution_count": 73,
   "metadata": {},
   "outputs": [],
   "source": [
    "X_train, X_test, y_train, y_test = train_test_split(final_mat, label, test_size=0.2, random_state=42)"
   ]
  },
  {
   "cell_type": "code",
   "execution_count": 74,
   "metadata": {},
   "outputs": [
    {
     "data": {
      "text/plain": [
       "((1115, 754), (4457, 754), (12, 754))"
      ]
     },
     "execution_count": 74,
     "metadata": {},
     "output_type": "execute_result"
    }
   ],
   "source": [
    "X_test.shape,X_train.shape,folder_test.shape"
   ]
  },
  {
   "cell_type": "code",
   "execution_count": 17,
   "metadata": {},
   "outputs": [],
   "source": [
    "number_of_spam=sum(y_train=='spam')\n",
    "number_of_ham=y_train.size-number_of_spam"
   ]
  },
  {
   "cell_type": "code",
   "execution_count": 18,
   "metadata": {},
   "outputs": [],
   "source": [
    "ham_in_test=np.sum(y_test=='ham')\n",
    "spam_in_test=y_test.size-ham_in_test"
   ]
  },
  {
   "cell_type": "code",
   "execution_count": 19,
   "metadata": {},
   "outputs": [],
   "source": [
    "final_mat=X_train\n",
    "label=y_train"
   ]
  },
  {
   "cell_type": "markdown",
   "metadata": {},
   "source": [
    "Reading data from a folder"
   ]
  },
  {
   "cell_type": "code",
   "execution_count": 61,
   "metadata": {},
   "outputs": [],
   "source": [
    "list_of_files=os.listdir('test')"
   ]
  },
  {
   "cell_type": "code",
   "execution_count": 62,
   "metadata": {},
   "outputs": [],
   "source": [
    "testt=np.array(range(len(list_of_files)),dtype=object)\n",
    "count=0\n",
    "for i in list_of_files:\n",
    "    with open('test/'+i, 'r') as file:\n",
    "        data=file.read().replace('\\n', '')\n",
    "        data=str(data)\n",
    "        testt[count]=data\n",
    "        count+=1"
   ]
  },
  {
   "cell_type": "code",
   "execution_count": 63,
   "metadata": {},
   "outputs": [],
   "source": [
    "data_cleaned=testt.copy()\n",
    "count=0\n",
    "for emails in data_cleaned:\n",
    "    data_cleaned[count]=''.join((z for z in emails if not (z.isdigit() or ispunc(z))))\n",
    "    count=count+1\n",
    "op=[]\n",
    "for i in data_cleaned:\n",
    "    op.append(list(i.split()))\n",
    "    \n",
    "vectorized_text=np.array(op,dtype=list)\n",
    "\n",
    "Dict={}\n",
    "for listt in vectorized_text:\n",
    "    for i in listt:\n",
    "        find_in_dict(Dict,i)\n",
    "sorted_dt = {key: value for key, value in sorted(Dict.items(), key=lambda item: item[1])}\n",
    "\n",
    "\n",
    "n=testt.size\n",
    "folder_test=np.zeros((n,features.size))\n",
    "for i in range(n):\n",
    "    for j in vectorized_text[i]:\n",
    "        temp=find_in_features(features,j)\n",
    "        if(temp!=-69):\n",
    "            folder_test[i,temp]=1"
   ]
  },
  {
   "cell_type": "code",
   "execution_count": 78,
   "metadata": {},
   "outputs": [],
   "source": [
    "X_test=folder_test"
   ]
  },
  {
   "cell_type": "markdown",
   "metadata": {},
   "source": [
    "===================Naive Bayes classifier=================="
   ]
  },
  {
   "cell_type": "code",
   "execution_count": 24,
   "metadata": {},
   "outputs": [],
   "source": [
    "#defining proabilities\n",
    "p_hat=number_of_spam/(number_of_ham+number_of_spam)\n"
   ]
  },
  {
   "cell_type": "code",
   "execution_count": 25,
   "metadata": {},
   "outputs": [],
   "source": [
    "spam_features=final_mat[label=='spam']"
   ]
  },
  {
   "cell_type": "code",
   "execution_count": 26,
   "metadata": {},
   "outputs": [],
   "source": [
    "ham_features=final_mat[label=='ham']"
   ]
  },
  {
   "cell_type": "code",
   "execution_count": 27,
   "metadata": {},
   "outputs": [],
   "source": [
    "spam_p=np.sum(spam_features,axis=0)\n",
    "ham_p=np.sum(ham_features,axis=0)"
   ]
  },
  {
   "cell_type": "code",
   "execution_count": 28,
   "metadata": {},
   "outputs": [
    {
     "data": {
      "text/plain": [
       "((598, 754), (3859, 754), (754,), (754,))"
      ]
     },
     "execution_count": 28,
     "metadata": {},
     "output_type": "execute_result"
    }
   ],
   "source": [
    "spam_features.shape,ham_features.shape,np.sum(spam_features,axis=0).shape,np.sum(ham_features,axis=0).shape"
   ]
  },
  {
   "cell_type": "code",
   "execution_count": 29,
   "metadata": {},
   "outputs": [],
   "source": [
    "spam_p=spam_p/np.sum(spam_p)\n",
    "ham_p=ham_p/np.sum(ham_p)"
   ]
  },
  {
   "cell_type": "code",
   "execution_count": 30,
   "metadata": {},
   "outputs": [],
   "source": [
    "f=label=='ham'"
   ]
  },
  {
   "cell_type": "code",
   "execution_count": 31,
   "metadata": {},
   "outputs": [
    {
     "data": {
      "text/plain": [
       "0.0"
      ]
     },
     "execution_count": 31,
     "metadata": {},
     "output_type": "execute_result"
    }
   ],
   "source": [
    "final_mat[4,5]"
   ]
  },
  {
   "cell_type": "code",
   "execution_count": 32,
   "metadata": {},
   "outputs": [
    {
     "name": "stdout",
     "output_type": "stream",
     "text": [
      "90\n"
     ]
    }
   ],
   "source": [
    "#predicting and finding errors\n",
    "n=y_train.size\n",
    "f=label=='ham'\n",
    "predicted=f.copy()\n",
    "count=0\n",
    "for i in range(n):\n",
    "    pred_spam=p_hat\n",
    "    pred_ham=1-p_hat\n",
    "    pred=True\n",
    "    for p in range(spam_p.size):\n",
    "        pred_spam=pred_spam*((spam_p[p])**final_mat[i,p])*((1-spam_p[p])**(1-final_mat[i,p]))\n",
    "        pred_ham=pred_ham*((ham_p[p])**final_mat[i,p])*((1-ham_p[p])**(1-final_mat[i,p]))\n",
    "    #print(type(pred_ham),pred_ham)\n",
    "    \n",
    "    if(pred_spam>=pred_ham):\n",
    "        pred=False\n",
    "    if(f[i]!=pred):\n",
    "        count=count+1\n",
    "    predicted[i]=pred\n",
    "print(count)"
   ]
  },
  {
   "cell_type": "code",
   "execution_count": 33,
   "metadata": {},
   "outputs": [],
   "source": [
    "def stats(prediction,label,number_of_spam,number_of_ham):\n",
    "    n=number_of_ham+number_of_spam\n",
    "    s=number_of_spam-np.sum(prediction[label=='spam'])\n",
    "    h=np.sum(prediction[label=='ham'])\n",
    "    print(\"number of corrrectly predicted spam=\",s,\" Percent \",(s)/number_of_spam*100)\n",
    "    print(\"number of incorrrectly predicted spam=\",number_of_spam-s,\" Percent \",(number_of_spam-s)/number_of_spam*100)\n",
    "    print(\"Number of correctly predicted ham= \",h,\"Percent\",(h)/number_of_ham*100)\n",
    "    print(\"Number of incorrectly predicted ham= \",number_of_ham-h,\"Percent\",(number_of_ham-h)/number_of_ham*100)\n",
    "    print(\"Overall accuracy\", (s+h)/n*100)"
   ]
  },
  {
   "cell_type": "code",
   "execution_count": 34,
   "metadata": {},
   "outputs": [
    {
     "name": "stdout",
     "output_type": "stream",
     "text": [
      "number of corrrectly predicted spam= 542  Percent  90.63545150501672\n",
      "number of incorrrectly predicted spam= 56  Percent  9.364548494983277\n",
      "Number of correctly predicted ham=  3825 Percent 99.11894273127754\n",
      "Number of incorrectly predicted ham=  34 Percent 0.881057268722467\n",
      "Overall accuracy 97.98070450975993\n"
     ]
    }
   ],
   "source": [
    "stats(predicted,y_train,number_of_spam,number_of_ham)"
   ]
  },
  {
   "cell_type": "markdown",
   "metadata": {},
   "source": [
    "Test Accuracy"
   ]
  },
  {
   "cell_type": "code",
   "execution_count": 35,
   "metadata": {},
   "outputs": [],
   "source": [
    "#predicting and finding errors\n",
    "n=y_test.size\n",
    "f=y_test=='ham'\n",
    "predicted=f.copy()\n",
    "count=0\n",
    "for i in range(n):\n",
    "    pred_spam=p_hat\n",
    "    pred_ham=1-p_hat\n",
    "    pred=True\n",
    "    for p in range(spam_p.size):\n",
    "        pred_spam=pred_spam*((spam_p[p])**X_test[i,p])*((1-spam_p[p])**(1-X_test[i,p]))\n",
    "        pred_ham=pred_ham*((ham_p[p])**X_test[i,p])*((1-ham_p[p])**(1-X_test[i,p]))\n",
    "    #print(type(pred_ham),pred_ham)\n",
    "    \n",
    "    if(pred_spam>=pred_ham):\n",
    "        pred=False\n",
    "    if(f[i]!=pred):\n",
    "        count=count+1\n",
    "    predicted[i]=pred"
   ]
  },
  {
   "cell_type": "code",
   "execution_count": 36,
   "metadata": {},
   "outputs": [
    {
     "name": "stdout",
     "output_type": "stream",
     "text": [
      "number of corrrectly predicted spam= 128  Percent  85.90604026845638\n",
      "number of incorrrectly predicted spam= 21  Percent  14.093959731543624\n",
      "Number of correctly predicted ham=  954 Percent 98.75776397515527\n",
      "Number of incorrectly predicted ham=  12 Percent 1.2422360248447204\n",
      "Overall accuracy 97.04035874439462\n"
     ]
    }
   ],
   "source": [
    "stats(predicted,y_test,spam_in_test,ham_in_test)"
   ]
  },
  {
   "cell_type": "code",
   "execution_count": null,
   "metadata": {},
   "outputs": [],
   "source": []
  },
  {
   "cell_type": "markdown",
   "metadata": {},
   "source": [
    "==========================KNN=================================="
   ]
  },
  {
   "cell_type": "code",
   "execution_count": 37,
   "metadata": {},
   "outputs": [
    {
     "data": {
      "text/plain": [
       "((598, 754), (3859, 754), (4457, 754))"
      ]
     },
     "execution_count": 37,
     "metadata": {},
     "output_type": "execute_result"
    }
   ],
   "source": [
    "spam_features.shape,ham_features.shape,final_mat.shape"
   ]
  },
  {
   "cell_type": "code",
   "execution_count": 38,
   "metadata": {},
   "outputs": [
    {
     "name": "stdout",
     "output_type": "stream",
     "text": [
      "1\n"
     ]
    }
   ],
   "source": [
    "for ii in range(1,2):\n",
    "    print(ii)"
   ]
  },
  {
   "cell_type": "code",
   "execution_count": 45,
   "metadata": {},
   "outputs": [
    {
     "data": {
      "text/plain": [
       "(11, 4457, (4457, 754))"
      ]
     },
     "execution_count": 45,
     "metadata": {},
     "output_type": "execute_result"
    }
   ],
   "source": [
    "len(k_s),n,final_mat.shape"
   ]
  },
  {
   "cell_type": "code",
   "execution_count": 95,
   "metadata": {
    "scrolled": true
   },
   "outputs": [
    {
     "data": {
      "text/plain": [
       "'\\nn=y_train.size\\nk_s=[1,2,3,4,5,6,8,10,15,25,30]\\np=len(k_s)\\npredicted=np.zeros(n)\\neff=np.zeros(p)\\nfor t in range(p):\\n    k=k_s[t]\\n    print(t)\\n    for i in range(n):\\n        y=label==\\'ham\\'\\n        point_a=final_mat[i,:]\\n        dist_matrix=np.zeros(n)\\n        for j in range(n):\\n            point_b=final_mat[j,:]\\n            dist=np.sum(abs(point_a-point_b))\\n            dist_matrix[j]=dist\\n        a=dist_matrix.argsort()\\n        dist_matrix=dist_matrix[a]\\n        y=y[a]\\n        count=0\\n        for o in range(1,k+1):\\n            count=count+y[o]\\n        count=count/k\\n        if(count>=0.5):\\n            predicted[i]=1\\n    s=number_of_spam-np.sum(predicted[label==\\'spam\\'])\\n    h=np.sum(predicted[label==\\'ham\\'])\\n    #print(\"number of corrrectly predicted spam=\",s,\" Percent \",(s)/number_of_spam*100)\\n    #print(\"number of incorrrectly predicted spam=\",number_of_spam-s,\" Percent \",(number_of_spam-s)/number_of_spam*100)\\n    #print(\"Number of correctly predicted ham= \",h,\"Percent\",(h)/number_of_ham*100)\\n    #print(\"Number of incorrectly predicted ham= \",number_of_ham-h,\"Percent\",(number_of_ham-h)/number_of_ham*100)\\n    eff[t]=(h+s)/n*100\\n'"
      ]
     },
     "execution_count": 95,
     "metadata": {},
     "output_type": "execute_result"
    }
   ],
   "source": [
    "#error on training set\n",
    "'''\n",
    "n=y_train.size\n",
    "k_s=[1,2,3,4,5,6,8,10,15,25,30]\n",
    "p=len(k_s)\n",
    "predicted=np.zeros(n)\n",
    "eff=np.zeros(p)\n",
    "for t in range(p):\n",
    "    k=k_s[t]\n",
    "    print(t)\n",
    "    for i in range(n):\n",
    "        y=label=='ham'\n",
    "        point_a=final_mat[i,:]\n",
    "        dist_matrix=np.zeros(n)\n",
    "        for j in range(n):\n",
    "            point_b=final_mat[j,:]\n",
    "            dist=np.sum(abs(point_a-point_b))\n",
    "            dist_matrix[j]=dist\n",
    "        a=dist_matrix.argsort()\n",
    "        dist_matrix=dist_matrix[a]\n",
    "        y=y[a]\n",
    "        count=0\n",
    "        for o in range(1,k+1):\n",
    "            count=count+y[o]\n",
    "        count=count/k\n",
    "        if(count>=0.5):\n",
    "            predicted[i]=1\n",
    "    s=number_of_spam-np.sum(predicted[label=='spam'])\n",
    "    h=np.sum(predicted[label=='ham'])\n",
    "    #print(\"number of corrrectly predicted spam=\",s,\" Percent \",(s)/number_of_spam*100)\n",
    "    #print(\"number of incorrrectly predicted spam=\",number_of_spam-s,\" Percent \",(number_of_spam-s)/number_of_spam*100)\n",
    "    #print(\"Number of correctly predicted ham= \",h,\"Percent\",(h)/number_of_ham*100)\n",
    "    #print(\"Number of incorrectly predicted ham= \",number_of_ham-h,\"Percent\",(number_of_ham-h)/number_of_ham*100)\n",
    "    eff[t]=(h+s)/n*100\n",
    "'''"
   ]
  },
  {
   "cell_type": "code",
   "execution_count": 47,
   "metadata": {},
   "outputs": [
    {
     "data": {
      "image/png": "[encoded data removed]",
      "text/plain": [
       "<Figure size 432x288 with 1 Axes>"
      ]
     },
     "metadata": {
      "needs_background": "light"
     },
     "output_type": "display_data"
    }
   ],
   "source": [
    "plt.plot(k_s,eff)\n",
    "plt.title(\"Plot of Accuracy vs K\")\n",
    "plt.ylabel(\"Accuracy\")\n",
    "plt.xlabel(\"K\")\n",
    "plt.show()"
   ]
  },
  {
   "cell_type": "code",
   "execution_count": 48,
   "metadata": {},
   "outputs": [
    {
     "data": {
      "text/plain": [
       "86.58290329818263"
      ]
     },
     "execution_count": 48,
     "metadata": {},
     "output_type": "execute_result"
    }
   ],
   "source": [
    "assimpototic_accuracy=number_of_ham/n*100\n",
    "assimpototic_accuracy"
   ]
  },
  {
   "cell_type": "markdown",
   "metadata": {},
   "source": [
    "Best k value of based on cross validation is K=3"
   ]
  },
  {
   "cell_type": "markdown",
   "metadata": {},
   "source": [
    "Test accuracy"
   ]
  },
  {
   "cell_type": "code",
   "execution_count": 49,
   "metadata": {},
   "outputs": [
    {
     "data": {
      "text/plain": [
       "1115"
      ]
     },
     "execution_count": 49,
     "metadata": {},
     "output_type": "execute_result"
    }
   ],
   "source": [
    "y_test.size"
   ]
  },
  {
   "cell_type": "code",
   "execution_count": 50,
   "metadata": {},
   "outputs": [],
   "source": [
    "n=y_train.size\n",
    "m=y_test.size\n",
    "predicted=np.zeros(m)\n",
    "k=2\n",
    "for i in range(m):\n",
    "    y=label=='ham'\n",
    "    point_a=X_test[i,:]\n",
    "    dist_matrix=np.zeros(n)\n",
    "    for j in range(n):\n",
    "        point_b=final_mat[j,:]\n",
    "        dist=np.sum(abs(point_a-point_b))\n",
    "        dist_matrix[j]=dist\n",
    "    a=dist_matrix.argsort()\n",
    "    dist_matrix=dist_matrix[a]\n",
    "    y=y[a]\n",
    "    count=0\n",
    "    for o in range(1,k+1):\n",
    "        count=count+y[o]\n",
    "    count=count/k\n",
    "    if(count>=0.5):\n",
    "        predicted[i]=1"
   ]
  },
  {
   "cell_type": "code",
   "execution_count": 51,
   "metadata": {},
   "outputs": [
    {
     "data": {
      "text/plain": [
       "((1115,), 1115)"
      ]
     },
     "execution_count": 51,
     "metadata": {},
     "output_type": "execute_result"
    }
   ],
   "source": [
    "predicted.shape,m"
   ]
  },
  {
   "cell_type": "code",
   "execution_count": 52,
   "metadata": {},
   "outputs": [
    {
     "name": "stdout",
     "output_type": "stream",
     "text": [
      "number of corrrectly predicted spam= 64.0  Percent  42.95302013422819\n",
      "number of incorrrectly predicted spam= 85.0  Percent  57.04697986577181\n",
      "Number of correctly predicted ham=  960.0 Percent 99.37888198757764\n",
      "Number of incorrectly predicted ham=  6.0 Percent 0.6211180124223602\n",
      "Overall accuracy 91.83856502242152\n"
     ]
    }
   ],
   "source": [
    "stats(predicted,y_test,spam_in_test,ham_in_test)"
   ]
  },
  {
   "cell_type": "markdown",
   "metadata": {},
   "source": [
    " ========================Support vector machines========================="
   ]
  },
  {
   "cell_type": "code",
   "execution_count": 53,
   "metadata": {},
   "outputs": [],
   "source": [
    "clf = svm.SVC()"
   ]
  },
  {
   "cell_type": "code",
   "execution_count": 54,
   "metadata": {},
   "outputs": [
    {
     "data": {
      "text/plain": [
       "SVC()"
      ]
     },
     "execution_count": 54,
     "metadata": {},
     "output_type": "execute_result"
    }
   ],
   "source": [
    "clf.fit(final_mat,label=='ham')"
   ]
  },
  {
   "cell_type": "code",
   "execution_count": 55,
   "metadata": {},
   "outputs": [
    {
     "data": {
      "text/plain": [
       "754"
      ]
     },
     "execution_count": 55,
     "metadata": {},
     "output_type": "execute_result"
    }
   ],
   "source": [
    "final_mat[9,:].size"
   ]
  },
  {
   "cell_type": "code",
   "execution_count": 56,
   "metadata": {},
   "outputs": [],
   "source": [
    "n=y_train.size\n",
    "m=final_mat[9,:].size\n",
    "prediction_svm=np.zeros(n)\n",
    "for i in range(n):\n",
    "    prediction_svm[i]=clf.predict(final_mat[i,:].reshape((1,m)))"
   ]
  },
  {
   "cell_type": "code",
   "execution_count": 57,
   "metadata": {},
   "outputs": [
    {
     "name": "stdout",
     "output_type": "stream",
     "text": [
      "number of corrrectly predicted spam= 566.0  Percent  94.64882943143813\n",
      "number of incorrrectly predicted spam= 32.0  Percent  5.351170568561873\n",
      "Number of correctly predicted ham=  3859.0 Percent 100.0\n",
      "Number of incorrectly predicted ham=  0.0 Percent 0.0\n",
      "Overall accuracy 99.28202827013686\n"
     ]
    }
   ],
   "source": [
    "stats(prediction_svm,label,number_of_spam,number_of_ham)"
   ]
  },
  {
   "cell_type": "code",
   "execution_count": 58,
   "metadata": {},
   "outputs": [],
   "source": [
    "n=y_test.size\n",
    "m=final_mat[9,:].size\n",
    "prediction_svm=np.zeros(n)\n",
    "for i in range(n):\n",
    "    prediction_svm[i]=clf.predict(X_test[i,:].reshape((1,m)))"
   ]
  },
  {
   "cell_type": "code",
   "execution_count": 59,
   "metadata": {
    "scrolled": true
   },
   "outputs": [
    {
     "name": "stdout",
     "output_type": "stream",
     "text": [
      "number of corrrectly predicted spam= 120.0  Percent  80.53691275167785\n",
      "number of incorrrectly predicted spam= 29.0  Percent  19.463087248322147\n",
      "Number of correctly predicted ham=  965.0 Percent 99.89648033126294\n",
      "Number of incorrectly predicted ham=  1.0 Percent 0.10351966873706005\n",
      "Overall accuracy 97.30941704035875\n"
     ]
    }
   ],
   "source": [
    "stats(prediction_svm,y_test,spam_in_test,ham_in_test)"
   ]
  },
  {
   "cell_type": "markdown",
   "metadata": {},
   "source": [
    "===========\\=\\=\\=\\=\\=\\=\\=======*=*=*=*=*=*=*=*==*==*=*==*=*=*=*=*=*=*======================\n",
    "<br>TESTING ACCURACY ON DATA<br>\n",
    "Run the below to directly get the accuracy values"
   ]
  },
  {
   "cell_type": "code",
   "execution_count": 81,
   "metadata": {},
   "outputs": [],
   "source": [
    "#Creates feature vectors from the test data in a folder\n",
    "list_of_files=os.listdir('test')\n",
    "testt=np.array(range(len(list_of_files)),dtype=object)\n",
    "count=0\n",
    "for i in list_of_files:\n",
    "    with open('test/'+i, 'r') as file:\n",
    "        data=file.read().replace('\\n', '')\n",
    "        data=str(data)\n",
    "        testt[count]=data\n",
    "        count+=1\n",
    "data_cleaned=testt.copy()\n",
    "count=0\n",
    "for emails in data_cleaned:\n",
    "    data_cleaned[count]=''.join((z for z in emails if not (z.isdigit() or ispunc(z))))\n",
    "    count=count+1\n",
    "op=[]\n",
    "for i in data_cleaned:\n",
    "    op.append(list(i.split()))\n",
    "    \n",
    "vectorized_text=np.array(op,dtype=list)\n",
    "Dict={}\n",
    "for listt in vectorized_text:\n",
    "    for i in listt:\n",
    "        find_in_dict(Dict,i)\n",
    "sorted_dt = {key: value for key, value in sorted(Dict.items(), key=lambda item: item[1])}\n",
    "n=testt.size\n",
    "folder_test=np.zeros((n,features.size))\n",
    "for i in range(n):\n",
    "    for j in vectorized_text[i]:\n",
    "        temp=find_in_features(features,j)\n",
    "        if(temp!=-69):\n",
    "            folder_test[i,temp]=1\n",
    "X_test=folder_test"
   ]
  },
  {
   "cell_type": "code",
   "execution_count": 89,
   "metadata": {},
   "outputs": [],
   "source": [
    "def prediction_new(pred,lis):\n",
    "    n=pred.size\n",
    "    for i in range(n):\n",
    "        print(\"The email \",lis[i],\" is \",(1-pred[i]))"
   ]
  },
  {
   "cell_type": "code",
   "execution_count": 92,
   "metadata": {},
   "outputs": [
    {
     "name": "stdout",
     "output_type": "stream",
     "text": [
      "The email  email1.txt  is  1.0\n",
      "The email  email10.txt  is  1.0\n",
      "The email  email11.txt  is  0.0\n",
      "The email  email12.txt  is  0.0\n",
      "The email  email2.txt  is  1.0\n",
      "The email  email3.txt  is  0.0\n",
      "The email  email4.txt  is  0.0\n",
      "The email  email5.txt  is  0.0\n",
      "The email  email6.txt  is  0.0\n",
      "The email  email7.txt  is  0.0\n",
      "The email  email8.txt  is  0.0\n",
      "The email  email9.txt  is  1.0\n"
     ]
    }
   ],
   "source": [
    "n=X_test.shape[0]\n",
    "predicted=f.copy()\n",
    "count=0\n",
    "for i in range(n):\n",
    "    pred_spam=p_hat\n",
    "    pred_ham=1-p_hat\n",
    "    pred=True\n",
    "    for p in range(spam_p.size):\n",
    "        pred_spam=pred_spam*((spam_p[p])**X_test[i,p])*((1-spam_p[p])**(1-X_test[i,p]))\n",
    "        pred_ham=pred_ham*((ham_p[p])**X_test[i,p])*((1-ham_p[p])**(1-X_test[i,p]))\n",
    "    #print(type(pred_ham),pred_ham)\n",
    "    \n",
    "    if(pred_spam>=pred_ham):\n",
    "        pred=False\n",
    "    if(f[i]!=pred):\n",
    "        count=count+1\n",
    "    predicted[i]=pred\n",
    "prediction_new(prediction_svm,list_of_files)"
   ]
  }
 ],
 "metadata": {
  "kernelspec": {
   "display_name": "Python 3",
   "language": "python",
   "name": "python3"
  },
  "language_info": {
   "codemirror_mode": {
    "name": "ipython",
    "version": 3
   },
   "file_extension": ".py",
   "mimetype": "text/x-python",
   "name": "python",
   "nbconvert_exporter": "python",
   "pygments_lexer": "ipython3",
   "version": "3.8.5"
  }
 },
 "nbformat": 4,
 "nbformat_minor": 4
}
